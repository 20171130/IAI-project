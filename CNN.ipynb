{
 "cells": [
  {
   "cell_type": "code",
   "execution_count": 26,
   "metadata": {},
   "outputs": [],
   "source": [
    "import torch\n",
    "from torch import nn\n",
    "import torch.nn.functional as F\n",
    "\n",
    "class CNN(nn.Module):\n",
    "    \"\"\"takes 4 consecutive frames, and compute the position and velocity of the thing\"\"\"\n",
    "    def __init__(self, input_dim=6):\n",
    "        super().__init__()\n",
    "        self.down00 = nn.Conv2d(input_dim, 16, kernel_size = 3, padding = 1, stride = 2)\n",
    "        self.down01 = nn.Conv2d(16, 16, kernel_size = 3, padding = 1, stride = 2)\n",
    "            \n",
    "        self.res00 = nn.Conv2d(16, 16, kernel_size = 3, padding = 1)\n",
    "        self.res01 = nn.Conv2d(16, 16, kernel_size = 1)\n",
    "        \n",
    "        self.down10 = nn.Conv2d(16, 32, kernel_size = 3, padding = 1, stride = 2)\n",
    "        self.down11 = nn.Conv2d(32, 32, kernel_size = 3, padding = 1, stride = 2)\n",
    "        \n",
    "        self.res10 = nn.Conv2d(32, 16, kernel_size = 3, padding = 1)\n",
    "        self.res11 = nn.Conv2d(16, 32, kernel_size = 1)\n",
    "        \n",
    "        self.down2 = nn.Conv2d(32, 32, kernel_size = 3, padding = 1, stride = 2)\n",
    "        \n",
    "        self.res20 = nn.Conv2d(32, 16, kernel_size = 3, padding = 1)\n",
    "        self.res21 = nn.Conv2d(16, 32, kernel_size = 1)\n",
    "        \n",
    "        self.down3 = nn.Conv2d(32, 64, kernel_size = 3, padding = 1, stride = 2)\n",
    "        \n",
    "        self.res30 = nn.Conv2d(64, 32, kernel_size = 3, padding = 1)\n",
    "        self.res31 = nn.Conv2d(32, 64, kernel_size = 1)\n",
    "        \n",
    "        self.down4 = nn.Conv2d(64, 64, kernel_size = 3, padding = 1, stride = 2)\n",
    "        \n",
    "        # 7 7\n",
    "        self.fc0 = nn.Linear(2*2*64, 256)\n",
    "        self.fc1 = nn.Linear(256, 6)\n",
    "        \n",
    "    def forward(self, x):\n",
    "        \n",
    "        x = F.relu(self.down00(x))\n",
    "        x = self.down01(x)\n",
    "        # 64\n",
    "        \n",
    "        inter = F.relu(self.res00(x))\n",
    "\n",
    "        x = x + self.res01(inter)\n",
    "        \n",
    "        x = F.relu(self.down10(x))\n",
    "        x = self.down11(x)\n",
    "        # 16\n",
    "        \n",
    "        inter = F.relu(self.res10(x))\n",
    "        x  = x+ self.res11(inter)\n",
    "        \n",
    "        x = self.down2(x)\n",
    "        # 8\n",
    "        \n",
    "        inter = F.relu(self.res20(x))\n",
    "        x = x + self.res21(inter)\n",
    "        \n",
    "        x = self.down3(x)\n",
    "        \n",
    "        # 4\n",
    "        \n",
    "        inter = F.relu(self.res30(x))\n",
    "        x = x + self.res31(inter)\n",
    "        \n",
    "        x = self.down4(x)\n",
    "        # 2\n",
    "\n",
    "        x = F.relu(self.fc0(x.view(-1, 2*2*64)))\n",
    "        x = self.fc1(x)\n",
    "        return x"
   ]
  },
  {
   "cell_type": "code",
   "execution_count": 27,
   "metadata": {},
   "outputs": [],
   "source": [
    "net = CNN()"
   ]
  },
  {
   "cell_type": "code",
   "execution_count": 28,
   "metadata": {},
   "outputs": [
    {
     "data": {
      "text/plain": [
       "tensor([[ 0.0656, -0.1008,  0.0906, -0.0195,  0.0335,  0.0402],\n",
       "        [ 0.0656, -0.1008,  0.0906, -0.0195,  0.0335,  0.0402],\n",
       "        [ 0.0656, -0.1008,  0.0906, -0.0195,  0.0335,  0.0402]],\n",
       "       grad_fn=<AddmmBackward>)"
      ]
     },
     "execution_count": 28,
     "metadata": {},
     "output_type": "execute_result"
    }
   ],
   "source": [
    "net(torch.zeros((3, 6, 256, 256)))"
   ]
  },
  {
   "cell_type": "code",
   "execution_count": null,
   "metadata": {},
   "outputs": [],
   "source": []
  },
  {
   "cell_type": "code",
   "execution_count": null,
   "metadata": {},
   "outputs": [],
   "source": []
  }
 ],
 "metadata": {
  "kernelspec": {
   "display_name": "Python 3",
   "language": "python",
   "name": "python3"
  },
  "language_info": {
   "codemirror_mode": {
    "name": "ipython",
    "version": 3
   },
   "file_extension": ".py",
   "mimetype": "text/x-python",
   "name": "python",
   "nbconvert_exporter": "python",
   "pygments_lexer": "ipython3",
   "version": "3.6.8"
  }
 },
 "nbformat": 4,
 "nbformat_minor": 4
}
